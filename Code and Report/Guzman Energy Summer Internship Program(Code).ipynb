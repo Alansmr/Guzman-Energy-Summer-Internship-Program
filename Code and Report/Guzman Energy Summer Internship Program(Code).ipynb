{
 "cells": [
  {
   "cell_type": "markdown",
   "id": "aee97a2a",
   "metadata": {},
   "source": [
    "## Assignment 1: Power Calendar function"
   ]
  },
  {
   "cell_type": "code",
   "execution_count": 180,
   "id": "2404f727",
   "metadata": {},
   "outputs": [],
   "source": [
    "import holidays\n",
    "import re\n",
    "from datetime import datetime\n",
    "from datetime import timedelta \n",
    "import calendar"
   ]
  },
  {
   "cell_type": "code",
   "execution_count": 181,
   "id": "d1ee2a14",
   "metadata": {},
   "outputs": [],
   "source": [
    "def get_hours(iso,peak_type,period):\n",
    "    \n",
    "    #This part use regular expression to class the input period and output the start and end date for the given period\n",
    "    pattern1 = \"([0-9]{4})-([0-9]{1,2})-([0-9]{1,2})\"\n",
    "    pattern2 = \"([0-9]{4})(Jan|Feb|Mar|Apr|May|Jun|Jul|Aug|Sep|Oct|Nov|Dec)\"\n",
    "    pattern3 = \"([0-9]{4})(Q)([1-4])\"\n",
    "    pattern4 = \"([0-9]{4})A\"\n",
    "    \n",
    "    if re.sub(pattern1,'1',period)=='1':\n",
    "        year=re.sub(pattern1,'\\\\1',period)\n",
    "        start_date=period\n",
    "        end_date=period\n",
    "    elif re.sub(pattern2,'1',period)=='1':\n",
    "        year=re.sub(pattern2,'\\\\1',period)\n",
    "        month=re.sub(pattern2,'\\\\2',period)\n",
    "        month_number = datetime.strptime(month, '%b').month \n",
    "        _, num_days = calendar.monthrange(int(year), month_number)\n",
    "        start_date=year+\"-\"+str(month_number)+\"-1\"\n",
    "        end_date=year+\"-\"+str(month_number)+\"-\"+str(num_days)\n",
    "    elif re.sub(pattern3,'1',period)=='1':\n",
    "        year=re.sub(pattern3,'\\\\1',period)\n",
    "        quater=re.sub(pattern3,'\\\\3',period)\n",
    "        if quater==1:\n",
    "            start_date=year+\"-1-1\"\n",
    "            end_date=year+\"-3-31\"\n",
    "        elif quater==2:\n",
    "            start_date=year+\"-4-1\"\n",
    "            end_date=year+\"-6-30\"\n",
    "        elif quater==3:\n",
    "            start_date=year+\"-7-1\"\n",
    "            end_date=year+\"-9-30\"\n",
    "        else:\n",
    "            start_date=year+\"-10-1\"\n",
    "            end_date=year+\"-12-31\"\n",
    "    elif re.sub(pattern4,'1',period)=='1':\n",
    "        year=re.sub(pattern4,'\\\\1',period)\n",
    "        start_date=year+\"-1-1\"\n",
    "        end_date=year+\"-12-31\"\n",
    "    start_date=datetime.strptime(start_date, '%Y-%m-%d').date()\n",
    "    end_date=datetime.strptime(end_date, '%Y-%m-%d').date()\n",
    "    year = int(year)\n",
    "    nerc_holidays = holidays.US(years=year, observed=True)\n",
    "\n",
    "    #This part determine which region we choose\n",
    "    if iso in [\"PJMISO\", \"MISO\",\"ERCOT\", \"SPPISO\", \"NYISO\"]:\n",
    "        param=5\n",
    "    else:\n",
    "        param=6\n",
    "        \n",
    "    #This part is where we calculate number of hours\n",
    "    if peak_type in [\"onpeak\",\"offpeak\",\"flat\"]:\n",
    "        onpeak_hour=0\n",
    "        flat_hour=0\n",
    "        current_datetime = start_date\n",
    "        while current_datetime <= end_date:\n",
    "            current_datetime += timedelta(days=1)\n",
    "            flag=False\n",
    "            for date, name in nerc_holidays.items():\n",
    "                if current_datetime.weekday()<param and date!=current_datetime:\n",
    "                    flag=True\n",
    "            if flag==True:\n",
    "                onpeak_hour+=16\n",
    "            flat_hour+=24\n",
    "        offpeak_hour=flat_hour-onpeak_hour\n",
    "        if peak_type==\"onpeak\":\n",
    "            num_hour=onpeak_hour\n",
    "        elif peak_type==\"offpeak\":\n",
    "            num_hour=offpeak_hour\n",
    "        elif peak_type==\"flat\":\n",
    "            num_hour=flat_hour\n",
    "    elif peak_type==\"2*16H\":\n",
    "        num_hour=0\n",
    "        current_datetime = start_date\n",
    "        while current_datetime <= end_date:\n",
    "            current_datetime += timedelta(days=1)\n",
    "            flag=False\n",
    "            for date, name in nerc_holidays.items():\n",
    "                if current_datetime.weekday()>=param or date==current_datetime:\n",
    "                    flag=True\n",
    "            if flag==True:\n",
    "                num_hour+=16\n",
    "    elif peak_type==\"7*8\":\n",
    "        num_hour=0\n",
    "        current_datetime = start_date\n",
    "        while current_datetime <= end_date:\n",
    "            current_datetime += timedelta(days=1)\n",
    "            num_hour+=8\n",
    "            \n",
    "    return([iso,peak_type,start_date,end_date,num_hour])"
   ]
  },
  {
   "cell_type": "code",
   "execution_count": 182,
   "id": "e70324b1",
   "metadata": {},
   "outputs": [
    {
     "data": {
      "text/plain": [
       "['ERCOT',\n",
       " '2*16H',\n",
       " datetime.date(2018, 1, 1),\n",
       " datetime.date(2018, 12, 31),\n",
       " 1808]"
      ]
     },
     "execution_count": 182,
     "metadata": {},
     "output_type": "execute_result"
    }
   ],
   "source": [
    "#Test the function\n",
    "my_hour=get_hours(\"ERCOT\", \"2*16H\", \"2018A\")\n",
    "my_hour"
   ]
  },
  {
   "cell_type": "markdown",
   "id": "e46081f0",
   "metadata": {},
   "source": [
    "## Assignment 2: Meter Data formatting"
   ]
  },
  {
   "cell_type": "code",
   "execution_count": 183,
   "id": "2c4ddb92",
   "metadata": {},
   "outputs": [],
   "source": [
    "import pandas as pd"
   ]
  },
  {
   "cell_type": "code",
   "execution_count": 184,
   "id": "53ae031e",
   "metadata": {},
   "outputs": [],
   "source": [
    "# import and clean both dataset\n",
    "df1 = pd.read_csv ('Assignment 2 - new.app4.csv')\n",
    "df1 = df1.drop(columns=\"Unnamed: 0\")\n",
    "df1=df1.rename(columns={'time': 'DateTime'})\n",
    "df1[\"W_min\"]=df1[\"W_min\"]/1000\n",
    "df1['DateTime'] = pd.to_datetime(df1['DateTime'], format='%m/%d/%Y %H:%M')\n",
    "df1['DateTime'] = df1['DateTime'].dt.floor('H')\n",
    "df1 = df1.groupby(df1['DateTime'])['W_min'].sum().reset_index()\n",
    "df2 = pd.read_csv ('Assignment 2 - USA_AL_Auburn-Opelika.AP.722284_TMY3_BASE.csv')\n",
    "df2=df2.rename(columns={'Date/Time': 'DateTime'})\n",
    "for i in range(len(df1[\"DateTime\"])):\n",
    "    output = df1.loc[i,\"DateTime\"].strftime('%m/%d %H:%M')\n",
    "    df1.loc[i,\"DateTime\"]=output\n",
    "pattern = \"(.*)(24:00:00)\"\n",
    "for i in range(len(df2[\"DateTime\"])):\n",
    "    if re.sub(pattern,'1',df2.loc[i,\"DateTime\"])=='1':\n",
    "        df2.loc[i,\"DateTime\"]=re.sub(pattern,'\\\\1',df2.loc[i,\"DateTime\"])+\"00:00:00\"\n",
    "        date_time = datetime.strptime(df2.loc[i,\"DateTime\"].lstrip(), '%m/%d %H:%M:%S')\n",
    "        next_day = date_time + timedelta(days=1)\n",
    "        out = next_day.strftime('%m/%d %H:%M')\n",
    "        df2.loc[i,\"DateTime\"]=out\n",
    "    else:    \n",
    "        date_time = datetime.strptime(df2.loc[i,\"DateTime\"].lstrip(), '%m/%d %H:%M:%S')\n",
    "        out = date_time.strftime('%m/%d %H:%M')\n",
    "        df2.loc[i,\"DateTime\"]=out"
   ]
  },
  {
   "cell_type": "code",
   "execution_count": 185,
   "id": "03766658",
   "metadata": {
    "scrolled": true
   },
   "outputs": [
    {
     "data": {
      "text/html": [
       "<div>\n",
       "<style scoped>\n",
       "    .dataframe tbody tr th:only-of-type {\n",
       "        vertical-align: middle;\n",
       "    }\n",
       "\n",
       "    .dataframe tbody tr th {\n",
       "        vertical-align: top;\n",
       "    }\n",
       "\n",
       "    .dataframe thead th {\n",
       "        text-align: right;\n",
       "    }\n",
       "</style>\n",
       "<table border=\"1\" class=\"dataframe\">\n",
       "  <thead>\n",
       "    <tr style=\"text-align: right;\">\n",
       "      <th></th>\n",
       "      <th>DateTime</th>\n",
       "      <th>W_min</th>\n",
       "    </tr>\n",
       "  </thead>\n",
       "  <tbody>\n",
       "    <tr>\n",
       "      <th>0</th>\n",
       "      <td>06/07 11:00</td>\n",
       "      <td>57.388943</td>\n",
       "    </tr>\n",
       "    <tr>\n",
       "      <th>1</th>\n",
       "      <td>06/07 12:00</td>\n",
       "      <td>27.227961</td>\n",
       "    </tr>\n",
       "    <tr>\n",
       "      <th>2</th>\n",
       "      <td>06/07 13:00</td>\n",
       "      <td>111.476298</td>\n",
       "    </tr>\n",
       "    <tr>\n",
       "      <th>3</th>\n",
       "      <td>06/07 14:00</td>\n",
       "      <td>109.021960</td>\n",
       "    </tr>\n",
       "    <tr>\n",
       "      <th>4</th>\n",
       "      <td>06/07 15:00</td>\n",
       "      <td>5.773963</td>\n",
       "    </tr>\n",
       "  </tbody>\n",
       "</table>\n",
       "</div>"
      ],
      "text/plain": [
       "      DateTime       W_min\n",
       "0  06/07 11:00   57.388943\n",
       "1  06/07 12:00   27.227961\n",
       "2  06/07 13:00  111.476298\n",
       "3  06/07 14:00  109.021960\n",
       "4  06/07 15:00    5.773963"
      ]
     },
     "execution_count": 185,
     "metadata": {},
     "output_type": "execute_result"
    }
   ],
   "source": [
    "df1.head()"
   ]
  },
  {
   "cell_type": "code",
   "execution_count": 186,
   "id": "59efce40",
   "metadata": {},
   "outputs": [
    {
     "data": {
      "text/html": [
       "<div>\n",
       "<style scoped>\n",
       "    .dataframe tbody tr th:only-of-type {\n",
       "        vertical-align: middle;\n",
       "    }\n",
       "\n",
       "    .dataframe tbody tr th {\n",
       "        vertical-align: top;\n",
       "    }\n",
       "\n",
       "    .dataframe thead th {\n",
       "        text-align: right;\n",
       "    }\n",
       "</style>\n",
       "<table border=\"1\" class=\"dataframe\">\n",
       "  <thead>\n",
       "    <tr style=\"text-align: right;\">\n",
       "      <th></th>\n",
       "      <th>DateTime</th>\n",
       "      <th>Electricity:Facility [kW](Hourly)</th>\n",
       "      <th>Gas:Facility [kW](Hourly)</th>\n",
       "      <th>Heating:Electricity [kW](Hourly)</th>\n",
       "      <th>Heating:Gas [kW](Hourly)</th>\n",
       "      <th>Cooling:Electricity [kW](Hourly)</th>\n",
       "      <th>HVACFan:Fans:Electricity [kW](Hourly)</th>\n",
       "      <th>Electricity:HVAC [kW](Hourly)</th>\n",
       "      <th>Fans:Electricity [kW](Hourly)</th>\n",
       "      <th>General:InteriorLights:Electricity [kW](Hourly)</th>\n",
       "      <th>General:ExteriorLights:Electricity [kW](Hourly)</th>\n",
       "      <th>Appl:InteriorEquipment:Electricity [kW](Hourly)</th>\n",
       "      <th>Misc:InteriorEquipment:Electricity [kW](Hourly)</th>\n",
       "      <th>Water Heater:WaterSystems:Electricity [kW](Hourly)</th>\n",
       "    </tr>\n",
       "  </thead>\n",
       "  <tbody>\n",
       "    <tr>\n",
       "      <th>0</th>\n",
       "      <td>01/01 01:00</td>\n",
       "      <td>0.974334</td>\n",
       "      <td>4.452977</td>\n",
       "      <td>0.0</td>\n",
       "      <td>4.425010</td>\n",
       "      <td>0.0</td>\n",
       "      <td>0.112709</td>\n",
       "      <td>0.112709</td>\n",
       "      <td>0.112709</td>\n",
       "      <td>0.154019</td>\n",
       "      <td>0.033180</td>\n",
       "      <td>0.092943</td>\n",
       "      <td>0.406035</td>\n",
       "      <td>0.158803</td>\n",
       "    </tr>\n",
       "    <tr>\n",
       "      <th>1</th>\n",
       "      <td>01/01 02:00</td>\n",
       "      <td>0.796582</td>\n",
       "      <td>4.850317</td>\n",
       "      <td>0.0</td>\n",
       "      <td>4.824566</td>\n",
       "      <td>0.0</td>\n",
       "      <td>0.122617</td>\n",
       "      <td>0.122617</td>\n",
       "      <td>0.122617</td>\n",
       "      <td>0.089845</td>\n",
       "      <td>0.019355</td>\n",
       "      <td>0.076186</td>\n",
       "      <td>0.373851</td>\n",
       "      <td>0.098084</td>\n",
       "    </tr>\n",
       "    <tr>\n",
       "      <th>2</th>\n",
       "      <td>01/01 03:00</td>\n",
       "      <td>0.735028</td>\n",
       "      <td>5.037645</td>\n",
       "      <td>0.0</td>\n",
       "      <td>5.012193</td>\n",
       "      <td>0.0</td>\n",
       "      <td>0.127099</td>\n",
       "      <td>0.127099</td>\n",
       "      <td>0.127099</td>\n",
       "      <td>0.064175</td>\n",
       "      <td>0.013825</td>\n",
       "      <td>0.062326</td>\n",
       "      <td>0.369517</td>\n",
       "      <td>0.081442</td>\n",
       "    </tr>\n",
       "    <tr>\n",
       "      <th>3</th>\n",
       "      <td>01/01 04:00</td>\n",
       "      <td>0.727433</td>\n",
       "      <td>5.107562</td>\n",
       "      <td>0.0</td>\n",
       "      <td>5.082468</td>\n",
       "      <td>0.0</td>\n",
       "      <td>0.128391</td>\n",
       "      <td>0.128391</td>\n",
       "      <td>0.128391</td>\n",
       "      <td>0.064175</td>\n",
       "      <td>0.013825</td>\n",
       "      <td>0.053976</td>\n",
       "      <td>0.364315</td>\n",
       "      <td>0.086107</td>\n",
       "    </tr>\n",
       "    <tr>\n",
       "      <th>4</th>\n",
       "      <td>01/01 05:00</td>\n",
       "      <td>0.778706</td>\n",
       "      <td>5.270878</td>\n",
       "      <td>0.0</td>\n",
       "      <td>5.246732</td>\n",
       "      <td>0.0</td>\n",
       "      <td>0.132549</td>\n",
       "      <td>0.132549</td>\n",
       "      <td>0.132549</td>\n",
       "      <td>0.064175</td>\n",
       "      <td>0.013825</td>\n",
       "      <td>0.065823</td>\n",
       "      <td>0.350553</td>\n",
       "      <td>0.135137</td>\n",
       "    </tr>\n",
       "  </tbody>\n",
       "</table>\n",
       "</div>"
      ],
      "text/plain": [
       "      DateTime  Electricity:Facility [kW](Hourly)  Gas:Facility [kW](Hourly)  \\\n",
       "0  01/01 01:00                           0.974334                   4.452977   \n",
       "1  01/01 02:00                           0.796582                   4.850317   \n",
       "2  01/01 03:00                           0.735028                   5.037645   \n",
       "3  01/01 04:00                           0.727433                   5.107562   \n",
       "4  01/01 05:00                           0.778706                   5.270878   \n",
       "\n",
       "   Heating:Electricity [kW](Hourly)  Heating:Gas [kW](Hourly)  \\\n",
       "0                               0.0                  4.425010   \n",
       "1                               0.0                  4.824566   \n",
       "2                               0.0                  5.012193   \n",
       "3                               0.0                  5.082468   \n",
       "4                               0.0                  5.246732   \n",
       "\n",
       "   Cooling:Electricity [kW](Hourly)  HVACFan:Fans:Electricity [kW](Hourly)  \\\n",
       "0                               0.0                               0.112709   \n",
       "1                               0.0                               0.122617   \n",
       "2                               0.0                               0.127099   \n",
       "3                               0.0                               0.128391   \n",
       "4                               0.0                               0.132549   \n",
       "\n",
       "   Electricity:HVAC [kW](Hourly)  Fans:Electricity [kW](Hourly)  \\\n",
       "0                       0.112709                       0.112709   \n",
       "1                       0.122617                       0.122617   \n",
       "2                       0.127099                       0.127099   \n",
       "3                       0.128391                       0.128391   \n",
       "4                       0.132549                       0.132549   \n",
       "\n",
       "   General:InteriorLights:Electricity [kW](Hourly)  \\\n",
       "0                                         0.154019   \n",
       "1                                         0.089845   \n",
       "2                                         0.064175   \n",
       "3                                         0.064175   \n",
       "4                                         0.064175   \n",
       "\n",
       "   General:ExteriorLights:Electricity [kW](Hourly)  \\\n",
       "0                                         0.033180   \n",
       "1                                         0.019355   \n",
       "2                                         0.013825   \n",
       "3                                         0.013825   \n",
       "4                                         0.013825   \n",
       "\n",
       "   Appl:InteriorEquipment:Electricity [kW](Hourly)  \\\n",
       "0                                         0.092943   \n",
       "1                                         0.076186   \n",
       "2                                         0.062326   \n",
       "3                                         0.053976   \n",
       "4                                         0.065823   \n",
       "\n",
       "   Misc:InteriorEquipment:Electricity [kW](Hourly)  \\\n",
       "0                                         0.406035   \n",
       "1                                         0.373851   \n",
       "2                                         0.369517   \n",
       "3                                         0.364315   \n",
       "4                                         0.350553   \n",
       "\n",
       "   Water Heater:WaterSystems:Electricity [kW](Hourly)   \n",
       "0                                           0.158803    \n",
       "1                                           0.098084    \n",
       "2                                           0.081442    \n",
       "3                                           0.086107    \n",
       "4                                           0.135137    "
      ]
     },
     "execution_count": 186,
     "metadata": {},
     "output_type": "execute_result"
    }
   ],
   "source": [
    "df2.head()"
   ]
  },
  {
   "cell_type": "code",
   "execution_count": 187,
   "id": "6f0fc5a1",
   "metadata": {},
   "outputs": [
    {
     "data": {
      "text/html": [
       "<div>\n",
       "<style scoped>\n",
       "    .dataframe tbody tr th:only-of-type {\n",
       "        vertical-align: middle;\n",
       "    }\n",
       "\n",
       "    .dataframe tbody tr th {\n",
       "        vertical-align: top;\n",
       "    }\n",
       "\n",
       "    .dataframe thead th {\n",
       "        text-align: right;\n",
       "    }\n",
       "</style>\n",
       "<table border=\"1\" class=\"dataframe\">\n",
       "  <thead>\n",
       "    <tr style=\"text-align: right;\">\n",
       "      <th></th>\n",
       "      <th>DateTime</th>\n",
       "      <th>W_min</th>\n",
       "      <th>Electricity:Facility [kW](Hourly)</th>\n",
       "      <th>Gas:Facility [kW](Hourly)</th>\n",
       "      <th>Heating:Electricity [kW](Hourly)</th>\n",
       "      <th>Heating:Gas [kW](Hourly)</th>\n",
       "      <th>Cooling:Electricity [kW](Hourly)</th>\n",
       "      <th>HVACFan:Fans:Electricity [kW](Hourly)</th>\n",
       "      <th>Electricity:HVAC [kW](Hourly)</th>\n",
       "      <th>Fans:Electricity [kW](Hourly)</th>\n",
       "      <th>General:InteriorLights:Electricity [kW](Hourly)</th>\n",
       "      <th>General:ExteriorLights:Electricity [kW](Hourly)</th>\n",
       "      <th>Appl:InteriorEquipment:Electricity [kW](Hourly)</th>\n",
       "      <th>Misc:InteriorEquipment:Electricity [kW](Hourly)</th>\n",
       "      <th>Water Heater:WaterSystems:Electricity [kW](Hourly)</th>\n",
       "    </tr>\n",
       "  </thead>\n",
       "  <tbody>\n",
       "    <tr>\n",
       "      <th>0</th>\n",
       "      <td>06/07 11:00</td>\n",
       "      <td>57.388943</td>\n",
       "      <td>1.479426</td>\n",
       "      <td>0.018757</td>\n",
       "      <td>0.0</td>\n",
       "      <td>0.0</td>\n",
       "      <td>0.347519</td>\n",
       "      <td>0.100007</td>\n",
       "      <td>0.447526</td>\n",
       "      <td>0.100007</td>\n",
       "      <td>0.047163</td>\n",
       "      <td>0.010160</td>\n",
       "      <td>0.360615</td>\n",
       "      <td>0.272322</td>\n",
       "      <td>0.324996</td>\n",
       "    </tr>\n",
       "    <tr>\n",
       "      <th>1</th>\n",
       "      <td>06/07 12:00</td>\n",
       "      <td>27.227961</td>\n",
       "      <td>1.559733</td>\n",
       "      <td>0.018441</td>\n",
       "      <td>0.0</td>\n",
       "      <td>0.0</td>\n",
       "      <td>0.454263</td>\n",
       "      <td>0.130764</td>\n",
       "      <td>0.585027</td>\n",
       "      <td>0.130764</td>\n",
       "      <td>0.047163</td>\n",
       "      <td>0.010160</td>\n",
       "      <td>0.350008</td>\n",
       "      <td>0.267735</td>\n",
       "      <td>0.282996</td>\n",
       "    </tr>\n",
       "    <tr>\n",
       "      <th>2</th>\n",
       "      <td>06/07 13:00</td>\n",
       "      <td>111.476298</td>\n",
       "      <td>1.702835</td>\n",
       "      <td>0.019079</td>\n",
       "      <td>0.0</td>\n",
       "      <td>0.0</td>\n",
       "      <td>0.603876</td>\n",
       "      <td>0.169912</td>\n",
       "      <td>0.773789</td>\n",
       "      <td>0.169912</td>\n",
       "      <td>0.047163</td>\n",
       "      <td>0.010160</td>\n",
       "      <td>0.319024</td>\n",
       "      <td>0.276993</td>\n",
       "      <td>0.259063</td>\n",
       "    </tr>\n",
       "    <tr>\n",
       "      <th>3</th>\n",
       "      <td>06/07 14:00</td>\n",
       "      <td>109.021960</td>\n",
       "      <td>1.859094</td>\n",
       "      <td>0.020153</td>\n",
       "      <td>0.0</td>\n",
       "      <td>0.0</td>\n",
       "      <td>0.752179</td>\n",
       "      <td>0.211629</td>\n",
       "      <td>0.963808</td>\n",
       "      <td>0.211629</td>\n",
       "      <td>0.047163</td>\n",
       "      <td>0.010160</td>\n",
       "      <td>0.294229</td>\n",
       "      <td>0.292590</td>\n",
       "      <td>0.234500</td>\n",
       "    </tr>\n",
       "    <tr>\n",
       "      <th>4</th>\n",
       "      <td>06/07 15:00</td>\n",
       "      <td>5.773963</td>\n",
       "      <td>2.100629</td>\n",
       "      <td>0.021274</td>\n",
       "      <td>0.0</td>\n",
       "      <td>0.0</td>\n",
       "      <td>0.921579</td>\n",
       "      <td>0.253177</td>\n",
       "      <td>1.174756</td>\n",
       "      <td>0.253177</td>\n",
       "      <td>0.050307</td>\n",
       "      <td>0.010837</td>\n",
       "      <td>0.301026</td>\n",
       "      <td>0.308854</td>\n",
       "      <td>0.238204</td>\n",
       "    </tr>\n",
       "  </tbody>\n",
       "</table>\n",
       "</div>"
      ],
      "text/plain": [
       "      DateTime       W_min  Electricity:Facility [kW](Hourly)  \\\n",
       "0  06/07 11:00   57.388943                           1.479426   \n",
       "1  06/07 12:00   27.227961                           1.559733   \n",
       "2  06/07 13:00  111.476298                           1.702835   \n",
       "3  06/07 14:00  109.021960                           1.859094   \n",
       "4  06/07 15:00    5.773963                           2.100629   \n",
       "\n",
       "   Gas:Facility [kW](Hourly)  Heating:Electricity [kW](Hourly)  \\\n",
       "0                   0.018757                               0.0   \n",
       "1                   0.018441                               0.0   \n",
       "2                   0.019079                               0.0   \n",
       "3                   0.020153                               0.0   \n",
       "4                   0.021274                               0.0   \n",
       "\n",
       "   Heating:Gas [kW](Hourly)  Cooling:Electricity [kW](Hourly)  \\\n",
       "0                       0.0                          0.347519   \n",
       "1                       0.0                          0.454263   \n",
       "2                       0.0                          0.603876   \n",
       "3                       0.0                          0.752179   \n",
       "4                       0.0                          0.921579   \n",
       "\n",
       "   HVACFan:Fans:Electricity [kW](Hourly)  Electricity:HVAC [kW](Hourly)  \\\n",
       "0                               0.100007                       0.447526   \n",
       "1                               0.130764                       0.585027   \n",
       "2                               0.169912                       0.773789   \n",
       "3                               0.211629                       0.963808   \n",
       "4                               0.253177                       1.174756   \n",
       "\n",
       "   Fans:Electricity [kW](Hourly)  \\\n",
       "0                       0.100007   \n",
       "1                       0.130764   \n",
       "2                       0.169912   \n",
       "3                       0.211629   \n",
       "4                       0.253177   \n",
       "\n",
       "   General:InteriorLights:Electricity [kW](Hourly)  \\\n",
       "0                                         0.047163   \n",
       "1                                         0.047163   \n",
       "2                                         0.047163   \n",
       "3                                         0.047163   \n",
       "4                                         0.050307   \n",
       "\n",
       "   General:ExteriorLights:Electricity [kW](Hourly)  \\\n",
       "0                                         0.010160   \n",
       "1                                         0.010160   \n",
       "2                                         0.010160   \n",
       "3                                         0.010160   \n",
       "4                                         0.010837   \n",
       "\n",
       "   Appl:InteriorEquipment:Electricity [kW](Hourly)  \\\n",
       "0                                         0.360615   \n",
       "1                                         0.350008   \n",
       "2                                         0.319024   \n",
       "3                                         0.294229   \n",
       "4                                         0.301026   \n",
       "\n",
       "   Misc:InteriorEquipment:Electricity [kW](Hourly)  \\\n",
       "0                                         0.272322   \n",
       "1                                         0.267735   \n",
       "2                                         0.276993   \n",
       "3                                         0.292590   \n",
       "4                                         0.308854   \n",
       "\n",
       "   Water Heater:WaterSystems:Electricity [kW](Hourly)   \n",
       "0                                           0.324996    \n",
       "1                                           0.282996    \n",
       "2                                           0.259063    \n",
       "3                                           0.234500    \n",
       "4                                           0.238204    "
      ]
     },
     "execution_count": 187,
     "metadata": {},
     "output_type": "execute_result"
    }
   ],
   "source": [
    "# Use dfply to merge the data by datetime\n",
    "from dfply import *\n",
    "merged_df = df1 >> inner_join(df2, by='DateTime')\n",
    "merged_df['DateTime'] = pd.to_datetime(merged_df['DateTime'], format='%m/%d %H:%M')\n",
    "for i in range(len(merged_df[\"DateTime\"])):\n",
    "    output = merged_df.loc[i,\"DateTime\"].strftime('%m/%d %H:%M')\n",
    "    merged_df.loc[i,\"DateTime\"]=output\n",
    "merged_df.head()"
   ]
  },
  {
   "cell_type": "code",
   "execution_count": 188,
   "id": "9858e510",
   "metadata": {},
   "outputs": [],
   "source": [
    "#This function allow user to specify a given period\n",
    "def get_df(month1,day1,hour1,month2,day2,hour2):\n",
    "    _merged_df = df1 >> inner_join(df2, by='DateTime')\n",
    "    _merged_df['DateTime'] = pd.to_datetime(merged_df['DateTime'], format='%m/%d %H:%M')\n",
    "    start_time = datetime(1900,month1, day1, hour1, 0)\n",
    "    end_time = datetime(1900,month2, day2, hour2, 59)\n",
    "    filtered_df = _merged_df >> mask((X.DateTime >= start_time) & (X.DateTime <= end_time))\n",
    "    return(filtered_df)"
   ]
  },
  {
   "cell_type": "code",
   "execution_count": 189,
   "id": "91439678",
   "metadata": {},
   "outputs": [],
   "source": [
    "filtered_df=get_df(6,10,11,7,15,23)"
   ]
  },
  {
   "cell_type": "code",
   "execution_count": 190,
   "id": "8210a58e",
   "metadata": {},
   "outputs": [
    {
     "data": {
      "text/html": [
       "<div>\n",
       "<style scoped>\n",
       "    .dataframe tbody tr th:only-of-type {\n",
       "        vertical-align: middle;\n",
       "    }\n",
       "\n",
       "    .dataframe tbody tr th {\n",
       "        vertical-align: top;\n",
       "    }\n",
       "\n",
       "    .dataframe thead th {\n",
       "        text-align: right;\n",
       "    }\n",
       "</style>\n",
       "<table border=\"1\" class=\"dataframe\">\n",
       "  <thead>\n",
       "    <tr style=\"text-align: right;\">\n",
       "      <th></th>\n",
       "      <th>DateTime</th>\n",
       "      <th>W_min</th>\n",
       "      <th>Electricity:Facility [kW](Hourly)</th>\n",
       "      <th>Gas:Facility [kW](Hourly)</th>\n",
       "      <th>Heating:Electricity [kW](Hourly)</th>\n",
       "      <th>Heating:Gas [kW](Hourly)</th>\n",
       "      <th>Cooling:Electricity [kW](Hourly)</th>\n",
       "      <th>HVACFan:Fans:Electricity [kW](Hourly)</th>\n",
       "      <th>Electricity:HVAC [kW](Hourly)</th>\n",
       "      <th>Fans:Electricity [kW](Hourly)</th>\n",
       "      <th>General:InteriorLights:Electricity [kW](Hourly)</th>\n",
       "      <th>General:ExteriorLights:Electricity [kW](Hourly)</th>\n",
       "      <th>Appl:InteriorEquipment:Electricity [kW](Hourly)</th>\n",
       "      <th>Misc:InteriorEquipment:Electricity [kW](Hourly)</th>\n",
       "      <th>Water Heater:WaterSystems:Electricity [kW](Hourly)</th>\n",
       "    </tr>\n",
       "  </thead>\n",
       "  <tbody>\n",
       "    <tr>\n",
       "      <th>18</th>\n",
       "      <td>1900-06-10 11:00:00</td>\n",
       "      <td>114.513788</td>\n",
       "      <td>1.427053</td>\n",
       "      <td>0.018757</td>\n",
       "      <td>0.0</td>\n",
       "      <td>0.0</td>\n",
       "      <td>0.246744</td>\n",
       "      <td>0.070927</td>\n",
       "      <td>0.317671</td>\n",
       "      <td>0.070927</td>\n",
       "      <td>0.047163</td>\n",
       "      <td>0.01016</td>\n",
       "      <td>0.413104</td>\n",
       "      <td>0.272322</td>\n",
       "      <td>0.349989</td>\n",
       "    </tr>\n",
       "    <tr>\n",
       "      <th>19</th>\n",
       "      <td>1900-06-10 12:00:00</td>\n",
       "      <td>109.916904</td>\n",
       "      <td>1.459188</td>\n",
       "      <td>0.018441</td>\n",
       "      <td>0.0</td>\n",
       "      <td>0.0</td>\n",
       "      <td>0.322353</td>\n",
       "      <td>0.092694</td>\n",
       "      <td>0.415047</td>\n",
       "      <td>0.092694</td>\n",
       "      <td>0.047163</td>\n",
       "      <td>0.01016</td>\n",
       "      <td>0.397819</td>\n",
       "      <td>0.267735</td>\n",
       "      <td>0.304620</td>\n",
       "    </tr>\n",
       "    <tr>\n",
       "      <th>20</th>\n",
       "      <td>1900-06-10 13:00:00</td>\n",
       "      <td>86.743821</td>\n",
       "      <td>1.603120</td>\n",
       "      <td>0.019079</td>\n",
       "      <td>0.0</td>\n",
       "      <td>0.0</td>\n",
       "      <td>0.478694</td>\n",
       "      <td>0.133155</td>\n",
       "      <td>0.611848</td>\n",
       "      <td>0.133155</td>\n",
       "      <td>0.047163</td>\n",
       "      <td>0.01016</td>\n",
       "      <td>0.362612</td>\n",
       "      <td>0.276993</td>\n",
       "      <td>0.277700</td>\n",
       "    </tr>\n",
       "    <tr>\n",
       "      <th>21</th>\n",
       "      <td>1900-06-11 12:00:00</td>\n",
       "      <td>86.163386</td>\n",
       "      <td>1.471146</td>\n",
       "      <td>0.018441</td>\n",
       "      <td>0.0</td>\n",
       "      <td>0.0</td>\n",
       "      <td>0.330399</td>\n",
       "      <td>0.098136</td>\n",
       "      <td>0.428535</td>\n",
       "      <td>0.098136</td>\n",
       "      <td>0.047163</td>\n",
       "      <td>0.01016</td>\n",
       "      <td>0.397819</td>\n",
       "      <td>0.267735</td>\n",
       "      <td>0.303090</td>\n",
       "    </tr>\n",
       "    <tr>\n",
       "      <th>22</th>\n",
       "      <td>1900-06-11 13:00:00</td>\n",
       "      <td>54.312595</td>\n",
       "      <td>1.487597</td>\n",
       "      <td>0.019079</td>\n",
       "      <td>0.0</td>\n",
       "      <td>0.0</td>\n",
       "      <td>0.381011</td>\n",
       "      <td>0.116681</td>\n",
       "      <td>0.497692</td>\n",
       "      <td>0.116681</td>\n",
       "      <td>0.047163</td>\n",
       "      <td>0.01016</td>\n",
       "      <td>0.362612</td>\n",
       "      <td>0.276993</td>\n",
       "      <td>0.276333</td>\n",
       "    </tr>\n",
       "  </tbody>\n",
       "</table>\n",
       "</div>"
      ],
      "text/plain": [
       "              DateTime       W_min  Electricity:Facility [kW](Hourly)  \\\n",
       "18 1900-06-10 11:00:00  114.513788                           1.427053   \n",
       "19 1900-06-10 12:00:00  109.916904                           1.459188   \n",
       "20 1900-06-10 13:00:00   86.743821                           1.603120   \n",
       "21 1900-06-11 12:00:00   86.163386                           1.471146   \n",
       "22 1900-06-11 13:00:00   54.312595                           1.487597   \n",
       "\n",
       "    Gas:Facility [kW](Hourly)  Heating:Electricity [kW](Hourly)  \\\n",
       "18                   0.018757                               0.0   \n",
       "19                   0.018441                               0.0   \n",
       "20                   0.019079                               0.0   \n",
       "21                   0.018441                               0.0   \n",
       "22                   0.019079                               0.0   \n",
       "\n",
       "    Heating:Gas [kW](Hourly)  Cooling:Electricity [kW](Hourly)  \\\n",
       "18                       0.0                          0.246744   \n",
       "19                       0.0                          0.322353   \n",
       "20                       0.0                          0.478694   \n",
       "21                       0.0                          0.330399   \n",
       "22                       0.0                          0.381011   \n",
       "\n",
       "    HVACFan:Fans:Electricity [kW](Hourly)  Electricity:HVAC [kW](Hourly)  \\\n",
       "18                               0.070927                       0.317671   \n",
       "19                               0.092694                       0.415047   \n",
       "20                               0.133155                       0.611848   \n",
       "21                               0.098136                       0.428535   \n",
       "22                               0.116681                       0.497692   \n",
       "\n",
       "    Fans:Electricity [kW](Hourly)  \\\n",
       "18                       0.070927   \n",
       "19                       0.092694   \n",
       "20                       0.133155   \n",
       "21                       0.098136   \n",
       "22                       0.116681   \n",
       "\n",
       "    General:InteriorLights:Electricity [kW](Hourly)  \\\n",
       "18                                         0.047163   \n",
       "19                                         0.047163   \n",
       "20                                         0.047163   \n",
       "21                                         0.047163   \n",
       "22                                         0.047163   \n",
       "\n",
       "    General:ExteriorLights:Electricity [kW](Hourly)  \\\n",
       "18                                          0.01016   \n",
       "19                                          0.01016   \n",
       "20                                          0.01016   \n",
       "21                                          0.01016   \n",
       "22                                          0.01016   \n",
       "\n",
       "    Appl:InteriorEquipment:Electricity [kW](Hourly)  \\\n",
       "18                                         0.413104   \n",
       "19                                         0.397819   \n",
       "20                                         0.362612   \n",
       "21                                         0.397819   \n",
       "22                                         0.362612   \n",
       "\n",
       "    Misc:InteriorEquipment:Electricity [kW](Hourly)  \\\n",
       "18                                         0.272322   \n",
       "19                                         0.267735   \n",
       "20                                         0.276993   \n",
       "21                                         0.267735   \n",
       "22                                         0.276993   \n",
       "\n",
       "    Water Heater:WaterSystems:Electricity [kW](Hourly)   \n",
       "18                                           0.349989    \n",
       "19                                           0.304620    \n",
       "20                                           0.277700    \n",
       "21                                           0.303090    \n",
       "22                                           0.276333    "
      ]
     },
     "execution_count": 190,
     "metadata": {},
     "output_type": "execute_result"
    }
   ],
   "source": [
    "filtered_df.head()"
   ]
  },
  {
   "cell_type": "code",
   "execution_count": 191,
   "id": "fffac7b6",
   "metadata": {},
   "outputs": [
    {
     "data": {
      "text/html": [
       "<div>\n",
       "<style scoped>\n",
       "    .dataframe tbody tr th:only-of-type {\n",
       "        vertical-align: middle;\n",
       "    }\n",
       "\n",
       "    .dataframe tbody tr th {\n",
       "        vertical-align: top;\n",
       "    }\n",
       "\n",
       "    .dataframe thead th {\n",
       "        text-align: right;\n",
       "    }\n",
       "</style>\n",
       "<table border=\"1\" class=\"dataframe\">\n",
       "  <thead>\n",
       "    <tr style=\"text-align: right;\">\n",
       "      <th></th>\n",
       "      <th>DateTime</th>\n",
       "      <th>W_min</th>\n",
       "      <th>Electricity:Facility [kW](Hourly)</th>\n",
       "      <th>Gas:Facility [kW](Hourly)</th>\n",
       "      <th>Heating:Electricity [kW](Hourly)</th>\n",
       "      <th>Heating:Gas [kW](Hourly)</th>\n",
       "      <th>Cooling:Electricity [kW](Hourly)</th>\n",
       "      <th>HVACFan:Fans:Electricity [kW](Hourly)</th>\n",
       "      <th>Electricity:HVAC [kW](Hourly)</th>\n",
       "      <th>Fans:Electricity [kW](Hourly)</th>\n",
       "      <th>General:InteriorLights:Electricity [kW](Hourly)</th>\n",
       "      <th>General:ExteriorLights:Electricity [kW](Hourly)</th>\n",
       "      <th>Appl:InteriorEquipment:Electricity [kW](Hourly)</th>\n",
       "      <th>Misc:InteriorEquipment:Electricity [kW](Hourly)</th>\n",
       "      <th>Water Heater:WaterSystems:Electricity [kW](Hourly)</th>\n",
       "      <th>total_energy_consumption</th>\n",
       "    </tr>\n",
       "  </thead>\n",
       "  <tbody>\n",
       "    <tr>\n",
       "      <th>0</th>\n",
       "      <td>06/07 11:00</td>\n",
       "      <td>57.388943</td>\n",
       "      <td>1.479426</td>\n",
       "      <td>0.018757</td>\n",
       "      <td>0.0</td>\n",
       "      <td>0.0</td>\n",
       "      <td>0.347519</td>\n",
       "      <td>0.100007</td>\n",
       "      <td>0.447526</td>\n",
       "      <td>0.100007</td>\n",
       "      <td>0.047163</td>\n",
       "      <td>0.010160</td>\n",
       "      <td>0.360615</td>\n",
       "      <td>0.272322</td>\n",
       "      <td>0.324996</td>\n",
       "      <td>60.897441</td>\n",
       "    </tr>\n",
       "    <tr>\n",
       "      <th>1</th>\n",
       "      <td>06/07 12:00</td>\n",
       "      <td>27.227961</td>\n",
       "      <td>1.559733</td>\n",
       "      <td>0.018441</td>\n",
       "      <td>0.0</td>\n",
       "      <td>0.0</td>\n",
       "      <td>0.454263</td>\n",
       "      <td>0.130764</td>\n",
       "      <td>0.585027</td>\n",
       "      <td>0.130764</td>\n",
       "      <td>0.047163</td>\n",
       "      <td>0.010160</td>\n",
       "      <td>0.350008</td>\n",
       "      <td>0.267735</td>\n",
       "      <td>0.282996</td>\n",
       "      <td>31.065016</td>\n",
       "    </tr>\n",
       "    <tr>\n",
       "      <th>2</th>\n",
       "      <td>06/07 13:00</td>\n",
       "      <td>111.476298</td>\n",
       "      <td>1.702835</td>\n",
       "      <td>0.019079</td>\n",
       "      <td>0.0</td>\n",
       "      <td>0.0</td>\n",
       "      <td>0.603876</td>\n",
       "      <td>0.169912</td>\n",
       "      <td>0.773789</td>\n",
       "      <td>0.169912</td>\n",
       "      <td>0.047163</td>\n",
       "      <td>0.010160</td>\n",
       "      <td>0.319024</td>\n",
       "      <td>0.276993</td>\n",
       "      <td>0.259063</td>\n",
       "      <td>115.828105</td>\n",
       "    </tr>\n",
       "    <tr>\n",
       "      <th>3</th>\n",
       "      <td>06/07 14:00</td>\n",
       "      <td>109.021960</td>\n",
       "      <td>1.859094</td>\n",
       "      <td>0.020153</td>\n",
       "      <td>0.0</td>\n",
       "      <td>0.0</td>\n",
       "      <td>0.752179</td>\n",
       "      <td>0.211629</td>\n",
       "      <td>0.963808</td>\n",
       "      <td>0.211629</td>\n",
       "      <td>0.047163</td>\n",
       "      <td>0.010160</td>\n",
       "      <td>0.294229</td>\n",
       "      <td>0.292590</td>\n",
       "      <td>0.234500</td>\n",
       "      <td>113.919095</td>\n",
       "    </tr>\n",
       "    <tr>\n",
       "      <th>4</th>\n",
       "      <td>06/07 15:00</td>\n",
       "      <td>5.773963</td>\n",
       "      <td>2.100629</td>\n",
       "      <td>0.021274</td>\n",
       "      <td>0.0</td>\n",
       "      <td>0.0</td>\n",
       "      <td>0.921579</td>\n",
       "      <td>0.253177</td>\n",
       "      <td>1.174756</td>\n",
       "      <td>0.253177</td>\n",
       "      <td>0.050307</td>\n",
       "      <td>0.010837</td>\n",
       "      <td>0.301026</td>\n",
       "      <td>0.308854</td>\n",
       "      <td>0.238204</td>\n",
       "      <td>11.407785</td>\n",
       "    </tr>\n",
       "  </tbody>\n",
       "</table>\n",
       "</div>"
      ],
      "text/plain": [
       "      DateTime       W_min  Electricity:Facility [kW](Hourly)  \\\n",
       "0  06/07 11:00   57.388943                           1.479426   \n",
       "1  06/07 12:00   27.227961                           1.559733   \n",
       "2  06/07 13:00  111.476298                           1.702835   \n",
       "3  06/07 14:00  109.021960                           1.859094   \n",
       "4  06/07 15:00    5.773963                           2.100629   \n",
       "\n",
       "   Gas:Facility [kW](Hourly)  Heating:Electricity [kW](Hourly)  \\\n",
       "0                   0.018757                               0.0   \n",
       "1                   0.018441                               0.0   \n",
       "2                   0.019079                               0.0   \n",
       "3                   0.020153                               0.0   \n",
       "4                   0.021274                               0.0   \n",
       "\n",
       "   Heating:Gas [kW](Hourly)  Cooling:Electricity [kW](Hourly)  \\\n",
       "0                       0.0                          0.347519   \n",
       "1                       0.0                          0.454263   \n",
       "2                       0.0                          0.603876   \n",
       "3                       0.0                          0.752179   \n",
       "4                       0.0                          0.921579   \n",
       "\n",
       "   HVACFan:Fans:Electricity [kW](Hourly)  Electricity:HVAC [kW](Hourly)  \\\n",
       "0                               0.100007                       0.447526   \n",
       "1                               0.130764                       0.585027   \n",
       "2                               0.169912                       0.773789   \n",
       "3                               0.211629                       0.963808   \n",
       "4                               0.253177                       1.174756   \n",
       "\n",
       "   Fans:Electricity [kW](Hourly)  \\\n",
       "0                       0.100007   \n",
       "1                       0.130764   \n",
       "2                       0.169912   \n",
       "3                       0.211629   \n",
       "4                       0.253177   \n",
       "\n",
       "   General:InteriorLights:Electricity [kW](Hourly)  \\\n",
       "0                                         0.047163   \n",
       "1                                         0.047163   \n",
       "2                                         0.047163   \n",
       "3                                         0.047163   \n",
       "4                                         0.050307   \n",
       "\n",
       "   General:ExteriorLights:Electricity [kW](Hourly)  \\\n",
       "0                                         0.010160   \n",
       "1                                         0.010160   \n",
       "2                                         0.010160   \n",
       "3                                         0.010160   \n",
       "4                                         0.010837   \n",
       "\n",
       "   Appl:InteriorEquipment:Electricity [kW](Hourly)  \\\n",
       "0                                         0.360615   \n",
       "1                                         0.350008   \n",
       "2                                         0.319024   \n",
       "3                                         0.294229   \n",
       "4                                         0.301026   \n",
       "\n",
       "   Misc:InteriorEquipment:Electricity [kW](Hourly)  \\\n",
       "0                                         0.272322   \n",
       "1                                         0.267735   \n",
       "2                                         0.276993   \n",
       "3                                         0.292590   \n",
       "4                                         0.308854   \n",
       "\n",
       "   Water Heater:WaterSystems:Electricity [kW](Hourly)   \\\n",
       "0                                           0.324996     \n",
       "1                                           0.282996     \n",
       "2                                           0.259063     \n",
       "3                                           0.234500     \n",
       "4                                           0.238204     \n",
       "\n",
       "   total_energy_consumption  \n",
       "0                 60.897441  \n",
       "1                 31.065016  \n",
       "2                115.828105  \n",
       "3                113.919095  \n",
       "4                 11.407785  "
      ]
     },
     "execution_count": 191,
     "metadata": {},
     "output_type": "execute_result"
    }
   ],
   "source": [
    "#total_energy_consumption column is add which is the sum of all columns except for datetime\n",
    "merged_df[\"total_energy_consumption\"]=merged_df.drop(\"DateTime\", axis=1).sum(axis=1)\n",
    "merged_df.head()"
   ]
  },
  {
   "cell_type": "code",
   "execution_count": 192,
   "id": "0fdff504",
   "metadata": {},
   "outputs": [],
   "source": [
    "import numpy as np\n",
    "import seaborn as sns\n",
    "import matplotlib.pyplot as plt"
   ]
  },
  {
   "cell_type": "code",
   "execution_count": 193,
   "id": "379c2e64",
   "metadata": {},
   "outputs": [
    {
     "data": {
      "image/png": "[encoded data removed]",
      "text/plain": [
       "<Figure size 432x288 with 1 Axes>"
      ]
     },
     "metadata": {
      "needs_background": "light"
     },
     "output_type": "display_data"
    }
   ],
   "source": [
    "#Visualization\n",
    "sns.barplot(x=\"DateTime\", y=\"W_min\", data=df1)\n",
    "plt.gca().set_xticklabels([])\n",
    "plt.title(\"Hourly Energy Consumption\")\n",
    "plt.show()"
   ]
  },
  {
   "cell_type": "code",
   "execution_count": 194,
   "id": "77207497",
   "metadata": {},
   "outputs": [],
   "source": [
    "df2['DateTime'] = pd.to_datetime(df2['DateTime'],format='%m/%d %H:%M')\n",
    "df2[\"total_energy_consumption\"]=df2.drop(\"DateTime\", axis=1).sum(axis=1)\n",
    "weekday_df = df2[df2['DateTime'].dt.weekday < 5]"
   ]
  },
  {
   "cell_type": "code",
   "execution_count": 195,
   "id": "7ee64b5e",
   "metadata": {},
   "outputs": [
    {
     "data": {
      "image/png": "[encoded data removed]",
      "text/plain": [
       "<Figure size 432x288 with 1 Axes>"
      ]
     },
     "metadata": {
      "needs_background": "light"
     },
     "output_type": "display_data"
    }
   ],
   "source": [
    "sns.barplot(x=\"DateTime\", y=\"total_energy_consumption\", data=weekday_df)\n",
    "plt.gca().set_xticklabels([])\n",
    "plt.title(\"Weekday Energy Consumption\")\n",
    "plt.show()"
   ]
  },
  {
   "cell_type": "code",
   "execution_count": 196,
   "id": "7e5be1ff",
   "metadata": {},
   "outputs": [
    {
     "name": "stderr",
     "output_type": "stream",
     "text": [
      "C:\\Users\\smral\\anaconda3\\lib\\site-packages\\seaborn\\_decorators.py:36: FutureWarning: Pass the following variables as keyword args: x, y. From version 0.12, the only valid positional argument will be `data`, and passing other arguments without an explicit keyword will result in an error or misinterpretation.\n",
      "  warnings.warn(\n"
     ]
    },
    {
     "data": {
      "image/png": "[encoded data removed]",
      "text/plain": [
       "<Figure size 432x288 with 1 Axes>"
      ]
     },
     "metadata": {
      "needs_background": "light"
     },
     "output_type": "display_data"
    }
   ],
   "source": [
    "monthly_sum = df2.groupby(df2['DateTime'].dt.month)[\"total_energy_consumption\"].sum()\n",
    "x=list(range(1,13))\n",
    "sns.barplot(x,monthly_sum)\n",
    "plt.title(\"Monthly Energy Consumption\")\n",
    "plt.show()"
   ]
  },
  {
   "cell_type": "markdown",
   "id": "2111c38a",
   "metadata": {},
   "source": [
    "## Assignment 3: EDA and forecast model"
   ]
  },
  {
   "cell_type": "code",
   "execution_count": 198,
   "id": "caa02d18",
   "metadata": {},
   "outputs": [],
   "source": [
    "timeserie = pd.read_excel ('Assignment 3 - timeseries_data.xlsx')"
   ]
  },
  {
   "cell_type": "code",
   "execution_count": 199,
   "id": "876cf316",
   "metadata": {},
   "outputs": [
    {
     "data": {
      "text/html": [
       "<div>\n",
       "<style scoped>\n",
       "    .dataframe tbody tr th:only-of-type {\n",
       "        vertical-align: middle;\n",
       "    }\n",
       "\n",
       "    .dataframe tbody tr th {\n",
       "        vertical-align: top;\n",
       "    }\n",
       "\n",
       "    .dataframe thead th {\n",
       "        text-align: right;\n",
       "    }\n",
       "</style>\n",
       "<table border=\"1\" class=\"dataframe\">\n",
       "  <thead>\n",
       "    <tr style=\"text-align: right;\">\n",
       "      <th></th>\n",
       "      <th>DATETIME</th>\n",
       "      <th>HB_NORTH (RTLMP)</th>\n",
       "      <th>ERCOT (WIND_RTI)</th>\n",
       "      <th>ERCOT (GENERATION_SOLAR_RT)</th>\n",
       "      <th>ERCOT (RTLOAD)</th>\n",
       "      <th>HOURENDING</th>\n",
       "      <th>MARKETDAY</th>\n",
       "      <th>PEAKTYPE</th>\n",
       "      <th>MONTH</th>\n",
       "      <th>YEAR</th>\n",
       "    </tr>\n",
       "  </thead>\n",
       "  <tbody>\n",
       "    <tr>\n",
       "      <th>0</th>\n",
       "      <td>2017-01-01 01:00:00</td>\n",
       "      <td>23.3575</td>\n",
       "      <td>2155.31</td>\n",
       "      <td>0.0</td>\n",
       "      <td>29485.791355</td>\n",
       "      <td>1</td>\n",
       "      <td>2017-01-01</td>\n",
       "      <td>OFFPEAK</td>\n",
       "      <td>JANUARY</td>\n",
       "      <td>2017</td>\n",
       "    </tr>\n",
       "    <tr>\n",
       "      <th>1</th>\n",
       "      <td>2017-01-01 02:00:00</td>\n",
       "      <td>21.4650</td>\n",
       "      <td>2313.81</td>\n",
       "      <td>0.0</td>\n",
       "      <td>28911.565913</td>\n",
       "      <td>2</td>\n",
       "      <td>2017-01-01</td>\n",
       "      <td>OFFPEAK</td>\n",
       "      <td>JANUARY</td>\n",
       "      <td>2017</td>\n",
       "    </tr>\n",
       "    <tr>\n",
       "      <th>2</th>\n",
       "      <td>2017-01-01 03:00:00</td>\n",
       "      <td>20.7350</td>\n",
       "      <td>2587.68</td>\n",
       "      <td>0.0</td>\n",
       "      <td>28238.258175</td>\n",
       "      <td>3</td>\n",
       "      <td>2017-01-01</td>\n",
       "      <td>OFFPEAK</td>\n",
       "      <td>JANUARY</td>\n",
       "      <td>2017</td>\n",
       "    </tr>\n",
       "    <tr>\n",
       "      <th>3</th>\n",
       "      <td>2017-01-01 04:00:00</td>\n",
       "      <td>20.2700</td>\n",
       "      <td>2748.65</td>\n",
       "      <td>0.0</td>\n",
       "      <td>27821.000513</td>\n",
       "      <td>4</td>\n",
       "      <td>2017-01-01</td>\n",
       "      <td>OFFPEAK</td>\n",
       "      <td>JANUARY</td>\n",
       "      <td>2017</td>\n",
       "    </tr>\n",
       "    <tr>\n",
       "      <th>4</th>\n",
       "      <td>2017-01-01 05:00:00</td>\n",
       "      <td>20.1200</td>\n",
       "      <td>2757.49</td>\n",
       "      <td>0.0</td>\n",
       "      <td>27646.942413</td>\n",
       "      <td>5</td>\n",
       "      <td>2017-01-01</td>\n",
       "      <td>OFFPEAK</td>\n",
       "      <td>JANUARY</td>\n",
       "      <td>2017</td>\n",
       "    </tr>\n",
       "  </tbody>\n",
       "</table>\n",
       "</div>"
      ],
      "text/plain": [
       "             DATETIME  HB_NORTH (RTLMP)  ERCOT (WIND_RTI)  \\\n",
       "0 2017-01-01 01:00:00           23.3575           2155.31   \n",
       "1 2017-01-01 02:00:00           21.4650           2313.81   \n",
       "2 2017-01-01 03:00:00           20.7350           2587.68   \n",
       "3 2017-01-01 04:00:00           20.2700           2748.65   \n",
       "4 2017-01-01 05:00:00           20.1200           2757.49   \n",
       "\n",
       "   ERCOT (GENERATION_SOLAR_RT)  ERCOT (RTLOAD)  HOURENDING  MARKETDAY  \\\n",
       "0                          0.0    29485.791355           1 2017-01-01   \n",
       "1                          0.0    28911.565913           2 2017-01-01   \n",
       "2                          0.0    28238.258175           3 2017-01-01   \n",
       "3                          0.0    27821.000513           4 2017-01-01   \n",
       "4                          0.0    27646.942413           5 2017-01-01   \n",
       "\n",
       "  PEAKTYPE    MONTH  YEAR  \n",
       "0  OFFPEAK  JANUARY  2017  \n",
       "1  OFFPEAK  JANUARY  2017  \n",
       "2  OFFPEAK  JANUARY  2017  \n",
       "3  OFFPEAK  JANUARY  2017  \n",
       "4  OFFPEAK  JANUARY  2017  "
      ]
     },
     "execution_count": 199,
     "metadata": {},
     "output_type": "execute_result"
    }
   ],
   "source": [
    "timeserie.head()"
   ]
  },
  {
   "cell_type": "code",
   "execution_count": 200,
   "id": "e175c3fb",
   "metadata": {},
   "outputs": [
    {
     "data": {
      "text/plain": [
       "25.766416607726704"
      ]
     },
     "execution_count": 200,
     "metadata": {},
     "output_type": "execute_result"
    }
   ],
   "source": [
    "# Summary Statistics\n",
    "mean(timeserie[\"HB_NORTH (RTLMP)\"])"
   ]
  },
  {
   "cell_type": "code",
   "execution_count": 201,
   "id": "41f55d78",
   "metadata": {},
   "outputs": [
    {
     "data": {
      "text/plain": [
       "46.36194471206801"
      ]
     },
     "execution_count": 201,
     "metadata": {},
     "output_type": "execute_result"
    }
   ],
   "source": [
    "sd(timeserie[\"HB_NORTH (RTLMP)\"])"
   ]
  },
  {
   "cell_type": "code",
   "execution_count": 202,
   "id": "e87afba6",
   "metadata": {},
   "outputs": [
    {
     "data": {
      "text/plain": [
       "7532.436282872779"
      ]
     },
     "execution_count": 202,
     "metadata": {},
     "output_type": "execute_result"
    }
   ],
   "source": [
    "mean(timeserie[\"ERCOT (WIND_RTI)\"])"
   ]
  },
  {
   "cell_type": "code",
   "execution_count": 203,
   "id": "14da48ef",
   "metadata": {},
   "outputs": [
    {
     "data": {
      "text/plain": [
       "3992.884834380992"
      ]
     },
     "execution_count": 203,
     "metadata": {},
     "output_type": "execute_result"
    }
   ],
   "source": [
    "sd(timeserie[\"ERCOT (WIND_RTI)\"])"
   ]
  },
  {
   "cell_type": "code",
   "execution_count": 204,
   "id": "a5b9ac05",
   "metadata": {},
   "outputs": [
    {
     "data": {
      "text/plain": [
       "291.98971434291985"
      ]
     },
     "execution_count": 204,
     "metadata": {},
     "output_type": "execute_result"
    }
   ],
   "source": [
    "mean(timeserie[\"ERCOT (GENERATION_SOLAR_RT)\"])"
   ]
  },
  {
   "cell_type": "code",
   "execution_count": 205,
   "id": "63bffefb",
   "metadata": {},
   "outputs": [
    {
     "data": {
      "text/plain": [
       "370.91459630619136"
      ]
     },
     "execution_count": 205,
     "metadata": {},
     "output_type": "execute_result"
    }
   ],
   "source": [
    "sd(timeserie[\"ERCOT (GENERATION_SOLAR_RT)\"])"
   ]
  },
  {
   "cell_type": "code",
   "execution_count": 206,
   "id": "0253ed51",
   "metadata": {},
   "outputs": [
    {
     "data": {
      "text/plain": [
       "42371.6737026014"
      ]
     },
     "execution_count": 206,
     "metadata": {},
     "output_type": "execute_result"
    }
   ],
   "source": [
    "mean(timeserie[\"ERCOT (RTLOAD)\"])"
   ]
  },
  {
   "cell_type": "code",
   "execution_count": 207,
   "id": "b0a42915",
   "metadata": {},
   "outputs": [
    {
     "data": {
      "text/plain": [
       "9874.339631258914"
      ]
     },
     "execution_count": 207,
     "metadata": {},
     "output_type": "execute_result"
    }
   ],
   "source": [
    "sd(timeserie[\"ERCOT (RTLOAD)\"])"
   ]
  },
  {
   "cell_type": "code",
   "execution_count": 208,
   "id": "e04c86ac",
   "metadata": {},
   "outputs": [
    {
     "name": "stderr",
     "output_type": "stream",
     "text": [
      "C:\\Users\\smral\\anaconda3\\lib\\site-packages\\statsmodels\\tsa\\holtwinters\\model.py:427: FutureWarning: After 0.13 initialization must be handled at model creation\n",
      "  warnings.warn(\n",
      "C:\\Users\\smral\\anaconda3\\lib\\site-packages\\statsmodels\\tsa\\holtwinters\\model.py:920: ConvergenceWarning: Optimization failed to converge. Check mle_retvals.\n",
      "  warnings.warn(\n",
      "C:\\Users\\smral\\anaconda3\\lib\\site-packages\\statsmodels\\tsa\\holtwinters\\model.py:920: ConvergenceWarning: Optimization failed to converge. Check mle_retvals.\n",
      "  warnings.warn(\n",
      "C:\\Users\\smral\\anaconda3\\lib\\site-packages\\statsmodels\\tsa\\holtwinters\\model.py:920: ConvergenceWarning: Optimization failed to converge. Check mle_retvals.\n",
      "  warnings.warn(\n"
     ]
    }
   ],
   "source": [
    "#Smoothing\n",
    "from statsmodels.tsa.holtwinters import ExponentialSmoothing\n",
    "\n",
    "model = ExponentialSmoothing(timeserie['HB_NORTH (RTLMP)'])\n",
    "smoothed_values = model.fit().fittedvalues\n",
    "timeserie['HB_NORTH (RTLMP)'] = smoothed_values\n",
    "\n",
    "model = ExponentialSmoothing(timeserie['ERCOT (WIND_RTI)'])\n",
    "smoothed_values = model.fit().fittedvalues\n",
    "timeserie['ERCOT (WIND_RTI)'] = smoothed_values\n",
    "\n",
    "model = ExponentialSmoothing(timeserie['ERCOT (GENERATION_SOLAR_RT)'])\n",
    "smoothed_values = model.fit().fittedvalues\n",
    "timeserie['ERCOT (GENERATION_SOLAR_RT)'] = smoothed_values\n",
    "\n",
    "model = ExponentialSmoothing(timeserie['ERCOT (RTLOAD)'])\n",
    "smoothed_values = model.fit().fittedvalues\n",
    "timeserie['ERCOT (RTLOAD)'] = smoothed_values"
   ]
  },
  {
   "cell_type": "code",
   "execution_count": 209,
   "id": "1b2d695d",
   "metadata": {},
   "outputs": [
    {
     "data": {
      "image/png": "[encoded data removed]",
      "text/plain": [
       "<Figure size 432x288 with 1 Axes>"
      ]
     },
     "metadata": {
      "needs_background": "light"
     },
     "output_type": "display_data"
    }
   ],
   "source": [
    "#Visualize each data\n",
    "sns.lineplot(x=\"DATETIME\", y=\"HB_NORTH (RTLMP)\", data=timeserie)\n",
    "plt.gca().set_xticklabels([])\n",
    "plt.title(\"RTLMP\")\n",
    "plt.show()"
   ]
  },
  {
   "cell_type": "code",
   "execution_count": 210,
   "id": "714ec7a1",
   "metadata": {},
   "outputs": [
    {
     "data": {
      "image/png": "[encoded data removed]",
      "text/plain": [
       "<Figure size 432x288 with 1 Axes>"
      ]
     },
     "metadata": {
      "needs_background": "light"
     },
     "output_type": "display_data"
    }
   ],
   "source": [
    "sns.lineplot(x=\"DATETIME\", y=\"ERCOT (WIND_RTI)\", data=timeserie)\n",
    "plt.gca().set_xticklabels([])\n",
    "plt.title(\"WIND_RTI\")\n",
    "plt.show()"
   ]
  },
  {
   "cell_type": "code",
   "execution_count": 211,
   "id": "75157468",
   "metadata": {},
   "outputs": [
    {
     "data": {
      "image/png": "[encoded data removed]",
      "text/plain": [
       "<Figure size 432x288 with 1 Axes>"
      ]
     },
     "metadata": {
      "needs_background": "light"
     },
     "output_type": "display_data"
    }
   ],
   "source": [
    "sns.lineplot(x=\"DATETIME\", y=\"ERCOT (GENERATION_SOLAR_RT)\", data=timeserie,linewidth=1)\n",
    "plt.gca().set_xticklabels([])\n",
    "plt.title(\"GENERATION_SOLAR_RT\")\n",
    "plt.show()"
   ]
  },
  {
   "cell_type": "code",
   "execution_count": 212,
   "id": "0639e0ad",
   "metadata": {},
   "outputs": [
    {
     "data": {
      "image/png": "[encoded data removed]",
      "text/plain": [
       "<Figure size 432x288 with 1 Axes>"
      ]
     },
     "metadata": {
      "needs_background": "light"
     },
     "output_type": "display_data"
    }
   ],
   "source": [
    "sns.lineplot(x=\"DATETIME\", y=\"ERCOT (RTLOAD)\", data=timeserie,linewidth=1)\n",
    "plt.gca().set_xticklabels([])\n",
    "plt.title(\"RTLOAD\")\n",
    "plt.show()"
   ]
  },
  {
   "cell_type": "code",
   "execution_count": 213,
   "id": "03cc0c54",
   "metadata": {},
   "outputs": [
    {
     "data": {
      "image/png": "[encoded data removed]",
      "text/plain": [
       "<Figure size 432x288 with 2 Axes>"
      ]
     },
     "metadata": {
      "needs_background": "light"
     },
     "output_type": "display_data"
    }
   ],
   "source": [
    "#Correlation\n",
    "ax = sns.heatmap(timeserie.loc[:,[\"HB_NORTH (RTLMP)\",\"ERCOT (WIND_RTI)\",\"ERCOT (GENERATION_SOLAR_RT)\",\"ERCOT (RTLOAD)\"]].corr(), annot=True)"
   ]
  },
  {
   "cell_type": "code",
   "execution_count": 214,
   "id": "5b96ed3b",
   "metadata": {},
   "outputs": [],
   "source": [
    "#Forcasting model\n",
    "from sklearn.linear_model import LinearRegression\n",
    "from sklearn.model_selection import train_test_split\n",
    "from sklearn.metrics import mean_squared_error"
   ]
  },
  {
   "cell_type": "code",
   "execution_count": 215,
   "id": "cc90371a",
   "metadata": {},
   "outputs": [],
   "source": [
    "timeserie=timeserie.dropna()\n",
    "X=timeserie.loc[:,[\"ERCOT (WIND_RTI)\",\"ERCOT (GENERATION_SOLAR_RT)\",\"ERCOT (RTLOAD)\"]]\n",
    "y=timeserie.loc[:,\"HB_NORTH (RTLMP)\"]\n",
    "X_train, X_test, y_train, y_test = train_test_split(X, y, test_size=0.2, random_state=42)"
   ]
  },
  {
   "cell_type": "code",
   "execution_count": 216,
   "id": "5127d926",
   "metadata": {},
   "outputs": [],
   "source": [
    "model = LinearRegression()\n",
    "model.fit(X_train, y_train)\n",
    "y_train_pred = model.predict(X_train)\n",
    "y_test_pred = model.predict(X_test)\n",
    "train_error = mean_squared_error(y_train, y_train_pred)\n",
    "test_error = mean_squared_error(y_test, y_test_pred)"
   ]
  },
  {
   "cell_type": "code",
   "execution_count": 217,
   "id": "9902a11e",
   "metadata": {},
   "outputs": [
    {
     "data": {
      "text/plain": [
       "195.68344917182526"
      ]
     },
     "execution_count": 217,
     "metadata": {},
     "output_type": "execute_result"
    }
   ],
   "source": [
    "train_error"
   ]
  },
  {
   "cell_type": "code",
   "execution_count": 218,
   "id": "7813acb8",
   "metadata": {},
   "outputs": [
    {
     "data": {
      "text/plain": [
       "132.7135399784833"
      ]
     },
     "execution_count": 218,
     "metadata": {},
     "output_type": "execute_result"
    }
   ],
   "source": [
    "test_error"
   ]
  }
 ],
 "metadata": {
  "hide_input": true,
  "kernelspec": {
   "display_name": "Python 3",
   "language": "python",
   "name": "python3"
  },
  "language_info": {
   "codemirror_mode": {
    "name": "ipython",
    "version": 3
   },
   "file_extension": ".py",
   "mimetype": "text/x-python",
   "name": "python",
   "nbconvert_exporter": "python",
   "pygments_lexer": "ipython3",
   "version": "3.8.8"
  }
 },
 "nbformat": 4,
 "nbformat_minor": 5
}
